{
 "cells": [
  {
   "cell_type": "code",
   "execution_count": 1,
   "metadata": {},
   "outputs": [],
   "source": [
    "from offense import Offense, OffenseResult\n",
    "from player_overview import add_player_overview, write_player_overview\n",
    "from shot_chart import add_shot_chart_overview, write_shot_chart_overview\n",
    "from finish_tendency import add_finish_tendency, write_finish_tendency\n",
    "from court_vision import add_court_vision, write_court_vision\n",
    "from player_pattern import add_player_pattern, write_player_pattern, write_team_pattern, PlayerPattern\n",
    "import collections\n",
    "txt_file = '國北教ppp修正.txt'\n",
    "offenses = []\n",
    "with open(txt_file, 'r+') as f:\n",
    "    for line in f:\n",
    "        line = line.strip()\n",
    "        offense = Offense(line)\n",
    "        if not offense.abnormal:\n",
    "            offenses.append(offense)"
   ]
  },
  {
   "cell_type": "code",
   "execution_count": 2,
   "metadata": {},
   "outputs": [],
   "source": [
    "# write player overview\n",
    "player_overview_dict = {}\n",
    "add_player_overview(offenses, player_overview_dict)\n",
    "player_overview_dict = collections.OrderedDict(sorted(player_overview_dict.items()))\n",
    "write_player_overview(player_overview_dict)"
   ]
  },
  {
   "cell_type": "code",
   "execution_count": 3,
   "metadata": {},
   "outputs": [],
   "source": [
    "# shot chart overview\n",
    "shot_chart_overview_dict = {}\n",
    "add_shot_chart_overview(offenses, shot_chart_overview_dict)\n",
    "write_shot_chart_overview(player_overview_dict, shot_chart_overview_dict)"
   ]
  },
  {
   "cell_type": "code",
   "execution_count": 4,
   "metadata": {},
   "outputs": [],
   "source": [
    "# player finish tendency\n",
    "player_finish_tendency_dict = {}\n",
    "add_finish_tendency(offenses, player_finish_tendency_dict)\n",
    "write_finish_tendency(player_finish_tendency_dict)"
   ]
  },
  {
   "cell_type": "code",
   "execution_count": 5,
   "metadata": {
    "scrolled": true
   },
   "outputs": [],
   "source": [
    "# player court vision\n",
    "player_court_vision_dict = {}\n",
    "add_court_vision(offenses, player_court_vision_dict)\n",
    "write_court_vision(player_court_vision_dict)"
   ]
  },
  {
   "cell_type": "code",
   "execution_count": 6,
   "metadata": {},
   "outputs": [],
   "source": [
    "# pattern\n",
    "player_pattern_dict = {}\n",
    "player_pattern_dict['team'] = PlayerPattern('team')\n",
    "player_pattern_dict['team'].add_game_count()\n",
    "add_player_pattern(offenses, player_pattern_dict)\n",
    "write_player_pattern(player_pattern_dict)\n",
    "write_team_pattern(player_pattern_dict['team'])"
   ]
  },
  {
   "cell_type": "code",
   "execution_count": null,
   "metadata": {},
   "outputs": [],
   "source": []
  }
 ],
 "metadata": {
  "kernelspec": {
   "display_name": "Python 3",
   "language": "python",
   "name": "python3"
  },
  "language_info": {
   "codemirror_mode": {
    "name": "ipython",
    "version": 3
   },
   "file_extension": ".py",
   "mimetype": "text/x-python",
   "name": "python",
   "nbconvert_exporter": "python",
   "pygments_lexer": "ipython3",
   "version": "3.5.3"
  }
 },
 "nbformat": 4,
 "nbformat_minor": 2
}
